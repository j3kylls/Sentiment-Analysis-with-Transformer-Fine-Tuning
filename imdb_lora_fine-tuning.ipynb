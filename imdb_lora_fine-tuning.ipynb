{
 "cells": [
  {
   "cell_type": "markdown",
   "id": "c4330972",
   "metadata": {},
   "source": [
    "#### Dependencies\n"
   ]
  },
  {
   "cell_type": "code",
   "execution_count": null,
   "id": "3f5b572b",
   "metadata": {},
   "outputs": [
    {
     "name": "stderr",
     "output_type": "stream",
     "text": [
      "c:\\Python311\\Lib\\site-packages\\torch\\utils\\_pytree.py:185: FutureWarning: optree is installed but the version is too old to support PyTorch Dynamo in C++ pytree. C++ pytree support is disabled. Please consider upgrading optree using `python3 -m pip install --upgrade 'optree>=0.13.0'`.\n",
      "  warnings.warn(\n"
     ]
    },
    {
     "name": "stdout",
     "output_type": "stream",
     "text": [
      "WARNING:tensorflow:From c:\\Python311\\Lib\\site-packages\\tf_keras\\src\\losses.py:2976: The name tf.losses.sparse_softmax_cross_entropy is deprecated. Please use tf.compat.v1.losses.sparse_softmax_cross_entropy instead.\n",
      "\n"
     ]
    }
   ],
   "source": [
    "import time\n",
    "import torch\n",
    "from datasets import load_dataset\n",
    "from transformers import (\n",
    "    AutoTokenizer, AutoModelForSequenceClassification,\n",
    "    Trainer, TrainingArguments, DataCollatorWithPadding,\n",
    "    BitsAndBytesConfig\n",
    ")\n",
    "from peft import LoraConfig, get_peft_config, get_peft_model, IA3Config\n",
    "import evaluate\n",
    "import matplotlib.pyplot as plt\n",
    "import pandas as pd\n"
   ]
  },
  {
   "cell_type": "code",
   "execution_count": null,
   "id": "db3fd828",
   "metadata": {},
   "outputs": [],
   "source": [
    "from peft import (\n",
    "    prepare_model_for_kbit_training,\n",
    "    get_peft_model,\n",
    "    LoraConfig,\n",
    "    TaskType,\n",
    ")"
   ]
  },
  {
   "cell_type": "code",
   "execution_count": 3,
   "id": "9616dea9",
   "metadata": {},
   "outputs": [],
   "source": [
    "\n",
    "imdbDS = load_dataset('imdb')\n",
    "trainRaw = imdbDS['train'].shuffle(seed=42).select(range(3000))\n",
    "testRaw = imdbDS['test'].shuffle(seed=42).select(range(2000))\n"
   ]
  },
  {
   "cell_type": "code",
   "execution_count": 8,
   "id": "37cae7cb",
   "metadata": {},
   "outputs": [
    {
     "data": {
      "text/plain": [
       "Dataset({\n",
       "    features: ['text', 'label'],\n",
       "    num_rows: 2000\n",
       "})"
      ]
     },
     "execution_count": 8,
     "metadata": {},
     "output_type": "execute_result"
    }
   ],
   "source": [
    "testRaw"
   ]
  },
  {
   "cell_type": "code",
   "execution_count": 10,
   "metadata": {},
   "outputs": [
    {
     "data": {
      "text/plain": [
       "(2000, 2)"
      ]
     },
     "execution_count": 10,
     "metadata": {},
     "output_type": "execute_result"
    }
   ],
   "source": [
    "testRaw.shape"
   ]
  },
  {
   "cell_type": "code",
   "execution_count": 7,
   "id": "a82fbcda",
   "metadata": {},
   "outputs": [
    {
     "data": {
      "text/plain": [
       "ClassLabel(names=['neg', 'pos'], id=None)"
      ]
     },
     "execution_count": 7,
     "metadata": {},
     "output_type": "execute_result"
    }
   ],
   "source": [
    "testRaw.features['label']"
   ]
  },
  {
   "cell_type": "code",
   "execution_count": 4,
   "id": "421baabe",
   "metadata": {},
   "outputs": [],
   "source": [
    "tokenizer = AutoTokenizer.from_pretrained('roberta-base')\n"
   ]
  },
  {
   "cell_type": "markdown",
   "id": "b1a85e07",
   "metadata": {},
   "source": [
    "## Part 1: Data Preprocessing \n"
   ]
  },
  {
   "cell_type": "code",
   "execution_count": 5,
   "id": "64fadb86",
   "metadata": {},
   "outputs": [],
   "source": [
    "\n",
    "def tokenize(batch):\n",
    "    return tokenizer(batch['text'], truncation=True, padding='max_length', max_length=256)\n"
   ]
  },
  {
   "cell_type": "code",
   "execution_count": 6,
   "id": "e73f4400",
   "metadata": {},
   "outputs": [],
   "source": [
    "trainDataset = trainRaw.map(tokenize, batched=True)\n"
   ]
  },
  {
   "cell_type": "code",
   "execution_count": 7,
   "id": "5ee12487",
   "metadata": {},
   "outputs": [
    {
     "data": {
      "text/plain": [
       "Dataset({\n",
       "    features: ['text', 'label', 'input_ids', 'attention_mask'],\n",
       "    num_rows: 3000\n",
       "})"
      ]
     },
     "execution_count": 7,
     "metadata": {},
     "output_type": "execute_result"
    }
   ],
   "source": [
    "trainDataset"
   ]
  },
  {
   "cell_type": "code",
   "execution_count": 8,
   "metadata": {},
   "outputs": [
    {
     "data": {
      "application/vnd.jupyter.widget-view+json": {
       "model_id": "e61b77e4c63a43a09e5e256574f1dccc",
       "version_major": 2,
       "version_minor": 0
      },
      "text/plain": [
       "Map:   0%|          | 0/2000 [00:00<?, ? examples/s]"
      ]
     },
     "metadata": {},
     "output_type": "display_data"
    },
    {
     "data": {
      "text/plain": [
       "Dataset({\n",
       "    features: ['text', 'label', 'input_ids', 'attention_mask'],\n",
       "    num_rows: 2000\n",
       "})"
      ]
     },
     "execution_count": 8,
     "metadata": {},
     "output_type": "execute_result"
    }
   ],
   "source": [
    "testDataset = testRaw.map(tokenize, batched=True)\n",
    "testDataset"
   ]
  },
  {
   "cell_type": "code",
   "execution_count": 9,
   "id": "8f1d7aff",
   "metadata": {},
   "outputs": [],
   "source": [
    "dataCollator = DataCollatorWithPadding(tokenizer)\n"
   ]
  },
  {
   "cell_type": "code",
   "execution_count": 10,
   "id": "fe8a58e3",
   "metadata": {},
   "outputs": [],
   "source": [
    "\n",
    "trainDataset.set_format('torch', columns=['input_ids', 'attention_mask', 'label'])\n",
    "testDataset.set_format('torch', columns=['input_ids', 'attention_mask', 'label'])\n"
   ]
  },
  {
   "cell_type": "markdown",
   "id": "47ab6d4e",
   "metadata": {},
   "source": [
    "## Part 2: Model Implementation "
   ]
  },
  {
   "cell_type": "code",
   "execution_count": 13,
   "id": "9cbe36a6",
   "metadata": {},
   "outputs": [],
   "source": [
    "accuracy = evaluate.load('accuracy')\n",
    "def compute_metrics(eval_pred):\n",
    "    logits, labels = eval_pred\n",
    "    preds = logits.argmax(-1)\n",
    "    return accuracy.compute(predictions=preds, references=labels)"
   ]
  },
  {
   "cell_type": "markdown",
   "id": "11bddea2",
   "metadata": {},
   "source": [
    "### Method 1: Full Fine-Tuning "
   ]
  },
  {
   "cell_type": "code",
   "execution_count": 11,
   "id": "fa6091b6",
   "metadata": {},
   "outputs": [
    {
     "name": "stderr",
     "output_type": "stream",
     "text": [
      "Some weights of RobertaForSequenceClassification were not initialized from the model checkpoint at roberta-base and are newly initialized: ['classifier.dense.bias', 'classifier.dense.weight', 'classifier.out_proj.bias', 'classifier.out_proj.weight']\n",
      "You should probably TRAIN this model on a down-stream task to be able to use it for predictions and inference.\n"
     ]
    }
   ],
   "source": [
    "model = AutoModelForSequenceClassification.from_pretrained('roberta-base', num_labels=2)\n",
    "args_full = TrainingArguments(\n",
    "    output_dir=\"m1output\",\n",
    "    eval_strategy=\"epoch\",\n",
    "    per_device_train_batch_size=8,\n",
    "    per_device_eval_batch_size=8,\n",
    "    num_train_epochs=3,\n",
    "    save_strategy=\"no\",\n",
    "    logging_steps=50,\n",
    "    report_to=[\"none\"],            \n",
    ")\n"
   ]
  },
  {
   "cell_type": "code",
   "execution_count": 14,
   "id": "60041b23",
   "metadata": {},
   "outputs": [
    {
     "name": "stderr",
     "output_type": "stream",
     "text": [
      "C:\\Users\\Javeria Shahid\\AppData\\Local\\Temp\\ipykernel_30828\\2421353682.py:2: FutureWarning: `tokenizer` is deprecated and will be removed in version 5.0.0 for `Trainer.__init__`. Use `processing_class` instead.\n",
      "  trainer_full = Trainer(\n"
     ]
    },
    {
     "data": {
      "text/html": [
       "\n",
       "    <div>\n",
       "      \n",
       "      <progress value='1125' max='1125' style='width:300px; height:20px; vertical-align: middle;'></progress>\n",
       "      [1125/1125 3:41:26, Epoch 3/3]\n",
       "    </div>\n",
       "    <table border=\"1\" class=\"dataframe\">\n",
       "  <thead>\n",
       " <tr style=\"text-align: left;\">\n",
       "      <th>Epoch</th>\n",
       "      <th>Training Loss</th>\n",
       "      <th>Validation Loss</th>\n",
       "      <th>Accuracy</th>\n",
       "    </tr>\n",
       "  </thead>\n",
       "  <tbody>\n",
       "    <tr>\n",
       "      <td>1</td>\n",
       "      <td>0.408500</td>\n",
       "      <td>0.342942</td>\n",
       "      <td>0.891500</td>\n",
       "    </tr>\n",
       "    <tr>\n",
       "      <td>2</td>\n",
       "      <td>0.328600</td>\n",
       "      <td>0.300406</td>\n",
       "      <td>0.901500</td>\n",
       "    </tr>\n",
       "    <tr>\n",
       "      <td>3</td>\n",
       "      <td>0.151900</td>\n",
       "      <td>0.476262</td>\n",
       "      <td>0.908000</td>\n",
       "    </tr>\n",
       "  </tbody>\n",
       "</table><p>"
      ],
      "text/plain": [
       "<IPython.core.display.HTML object>"
      ]
     },
     "metadata": {},
     "output_type": "display_data"
    }
   ],
   "source": [
    "\n",
    "start = time.time()\n",
    "trainer_full = Trainer(\n",
    "    model=model, args=args_full,\n",
    "    train_dataset=trainDataset, eval_dataset=testDataset,\n",
    "    tokenizer=tokenizer, data_collator=dataCollator,\n",
    "    compute_metrics=compute_metrics\n",
    ")\n",
    "trainer_full.train()\n",
    "end = time.time()"
   ]
  },
  {
   "cell_type": "code",
   "execution_count": 20,
   "id": "6defbfc8",
   "metadata": {},
   "outputs": [
    {
     "data": {
      "text/plain": [
       "('./fft\\\\tokenizer_config.json',\n",
       " './fft\\\\special_tokens_map.json',\n",
       " './fft\\\\vocab.json',\n",
       " './fft\\\\merges.txt',\n",
       " './fft\\\\added_tokens.json',\n",
       " './fft\\\\tokenizer.json')"
      ]
     },
     "execution_count": 20,
     "metadata": {},
     "output_type": "execute_result"
    }
   ],
   "source": [
    "model_output_dir = \"./fft\"  \n",
    "trainer_full.save_model(model_output_dir)  \n",
    "tokenizer.save_pretrained(model_output_dir)  "
   ]
  },
  {
   "cell_type": "code",
   "execution_count": null,
   "id": "d8c6ba92",
   "metadata": {},
   "outputs": [],
   "source": [
    "model_full = AutoModelForSequenceClassification.from_pretrained('roberta-base', num_labels=2).cuda()\n",
    "args_full = TrainingArguments(\n",
    "    output_dir=\"m1output\",\n",
    "    eval_strategy=\"epoch\",\n",
    "    per_device_train_batch_size=8,\n",
    "    per_device_eval_batch_size=8,\n",
    "    num_train_epochs=3,\n",
    "    save_strategy=\"no\",\n",
    "    logging_steps=50,\n",
    "    report_to=[\"none\"],            \n",
    ")\n",
    "\n",
    "torch.cuda.reset_peak_memory_stats()\n",
    "start = time.time()\n",
    "trainer_full = Trainer(\n",
    "    model=model_full, args=args_full,\n",
    "    train_dataset=trainDataset, eval_dataset=testDataset,\n",
    "    tokenizer=tokenizer, data_collator=dataCollator,\n",
    "    compute_metrics=compute_metrics\n",
    ")\n",
    "trainer_full.train()\n",
    "end = time.time()\n",
    "metrics_full = trainer_full.evaluate()\n",
    "metrics_full['trainable_params'] = sum(p.numel() for p in model_full.parameters() if p.requires_grad)\n",
    "metrics_full['train_time'] = end - start\n",
    "metrics_full['max_gpu_mem'] = torch.cuda.max_memory_allocated() / (1024**3)\n"
   ]
  },
  {
   "cell_type": "markdown",
   "id": "ca61e475",
   "metadata": {},
   "source": [
    "### Method 2: LoRA Fine-Tuning Using PEFT"
   ]
  },
  {
   "cell_type": "code",
   "execution_count": null,
   "id": "47bd0cb8",
   "metadata": {},
   "outputs": [],
   "source": [
    "peft_config = LoraConfig(\n",
    "    task_type='SEQ_CLS', inference_mode=False,\n",
    "    r=16, lora_alpha=32, lora_dropout=0.1\n",
    ")"
   ]
  },
  {
   "cell_type": "code",
   "execution_count": null,
   "id": "6b995e5a",
   "metadata": {},
   "outputs": [],
   "source": [
    "\n",
    "model_lora = get_peft_model(\n",
    "    AutoModelForSequenceClassification.from_pretrained('roberta-base', num_labels=2).cuda(),\n",
    "    peft_config\n",
    ")"
   ]
  },
  {
   "cell_type": "code",
   "execution_count": null,
   "id": "d3eb21ad",
   "metadata": {},
   "outputs": [],
   "source": [
    "\n",
    "args_lora = TrainingArguments(\n",
    "    'lora_output', eval_strategy='epoch', num_train_epochs=3,\n",
    "    per_device_train_batch_size=8, per_device_eval_batch_size=8,\n",
    "    save_strategy='no', logging_steps=50, report_to=[\"none\"]\n",
    ")"
   ]
  },
  {
   "cell_type": "code",
   "execution_count": null,
   "id": "63016a83",
   "metadata": {},
   "outputs": [],
   "source": [
    "torch.cuda.reset_peak_memory_stats()"
   ]
  },
  {
   "cell_type": "code",
   "execution_count": null,
   "id": "0433bb6a",
   "metadata": {},
   "outputs": [],
   "source": [
    "\n",
    "\n",
    "start = time.time()\n",
    "trainer_lora = Trainer(\n",
    "    model=model_lora, args=args_lora,\n",
    "    train_dataset=trainDataset, eval_dataset=testDataset,\n",
    "    tokenizer=tokenizer, data_collator=dataCollator,\n",
    "    compute_metrics=compute_metrics\n",
    ")\n",
    "trainer_lora.train()\n",
    "end = time.time()\n",
    "metrics_lora = trainer_lora.evaluate()\n",
    "metrics_lora['trainable_params'] = sum(p.numel() for p in model_lora.parameters() if p.requires_grad)\n",
    "metrics_lora['train_time'] = end - start\n",
    "metrics_lora['max_gpu_mem'] = torch.cuda.max_memory_allocated() / (1024**3)\n"
   ]
  },
  {
   "cell_type": "markdown",
   "id": "d6ae2a7c",
   "metadata": {},
   "source": [
    "### Method 3: QLoRA Fine-Tuning "
   ]
  },
  {
   "cell_type": "code",
   "execution_count": 18,
   "id": "593b3bfc",
   "metadata": {},
   "outputs": [],
   "source": [
    "bnb_config = BitsAndBytesConfig(\n",
    "    load_in_4bit=True,\n",
    "    bnb_4bit_quant_type=\"nf4\",\n",
    "    bnb_4bit_use_double_quant=True,\n",
    ")"
   ]
  },
  {
   "cell_type": "code",
   "execution_count": 15,
   "id": "21a2e42c",
   "metadata": {},
   "outputs": [],
   "source": [
    "import torch.nn as nn"
   ]
  },
  {
   "cell_type": "code",
   "execution_count": 16,
   "id": "e3b6e03c",
   "metadata": {},
   "outputs": [],
   "source": [
    "if hasattr(model.classifier, 'out_proj'):\n",
    "    orig = getattr(model.classifier, 'out_proj')\n",
    "    W = orig.weight.data.detach().clone().float()\n",
    "    b = orig.bias.data.detach().clone().float()\n",
    "    new = nn.Linear(W.size(1), W.size(0))\n",
    "    new.weight.data.copy_(W)\n",
    "    new.bias.data.copy_(b)\n",
    "    setattr(model.classifier, 'out_proj', new)\n"
   ]
  },
  {
   "cell_type": "code",
   "execution_count": null,
   "id": "81896a78",
   "metadata": {},
   "outputs": [],
   "source": [
    "\n",
    "\n",
    "\n",
    "\n",
    "model = AutoModelForSequenceClassification.from_pretrained(\n",
    "    \"roberta-base\",\n",
    "    quantization_config=bnb_config,\n",
    "    device_map=\"auto\",\n",
    "    trust_remote_code=True,\n",
    ")\n",
    "model = prepare_model_for_kbit_training(model)\n",
    "\n",
    "peft_config = LoraConfig(\n",
    "    task_type=TaskType.SEQ_CLS,\n",
    "    inference_mode=False,\n",
    "    r=8,\n",
    "    lora_alpha=32,\n",
    "    lora_dropout=0.05,\n",
    "    target_modules=[\"query\", \"key\", \"value\"],\n",
    "    bias=\"none\",\n",
    ")\n",
    "model = get_peft_model(model, peft_config)\n",
    "\n",
    "device = torch.device(\"cuda\" if torch.cuda.is_available() else \"cpu\")\n",
    "model.to(device)\n",
    "\n",
    "\n",
    "training_args = TrainingArguments(\n",
    "    output_dir=\"qlora_output\",\n",
    "    eval_strategy=\"epoch\",\n",
    "    save_strategy=\"no\",\n",
    "    num_train_epochs=3,\n",
    "    per_device_train_batch_size=8,\n",
    "    per_device_eval_batch_size=8,\n",
    "    logging_steps=50,\n",
    "    report_to=[\"none\"],\n",
    ")\n",
    "\n",
    "\n",
    "trainer = Trainer(\n",
    "    model=model,\n",
    "    args=training_args,\n",
    "    train_dataset=trainDataset,\n",
    "    eval_dataset=testDataset,\n",
    "    tokenizer=tokenizer,\n",
    "    data_collator=dataCollator,\n",
    "    compute_metrics=compute_metrics,\n",
    ")\n",
    "\n",
    "\n",
    "torch.cuda.reset_peak_memory_stats()\n",
    "start = time.time()\n",
    "trainer.train()\n",
    "end = time.time()\n",
    "\n",
    "metrics_qlora = trainer.evaluate()\n",
    "metrics_qlora[\"trainable_params\"] = sum(p.numel() for p in model.parameters() if p.requires_grad)\n",
    "metrics_qlora[\"train_time_sec\"] = end - start\n",
    "metrics_qlora[\"max_gpu_mem_GB\"] = torch.cuda.max_memory_allocated() / 1024**3\n",
    "\n"
   ]
  },
  {
   "cell_type": "markdown",
   "id": "40449385",
   "metadata": {},
   "source": [
    "### Method 4: Adapter Tuning (IA3) "
   ]
  },
  {
   "cell_type": "code",
   "execution_count": null,
   "id": "39dd26a8",
   "metadata": {},
   "outputs": [],
   "source": [
    "ia3_config = IA3Config(\n",
    "    task_type='SEQ_CLS', inference_mode=False\n",
    ")\n",
    "model_ia3 = get_peft_model(\n",
    "    AutoModelForSequenceClassification.from_pretrained('roberta-base', num_labels=2).cuda(),\n",
    "    ia3_config\n",
    ")\n",
    "args_ia3 = TrainingArguments(\n",
    "    'ia3_output', eval_strategy='epoch', num_train_epochs=3,\n",
    "    per_device_train_batch_size=8, per_device_eval_batch_size=8,\n",
    "    save_strategy='no', logging_steps=50, report_to=[\"none\"]\n",
    ")\n",
    "torch.cuda.reset_peak_memory_stats()\n",
    "start = time.time()\n",
    "trainer_ia3 = Trainer(\n",
    "    model=model_ia3, args=args_ia3,\n",
    "    train_dataset=trainDataset, eval_dataset=testDataset,\n",
    "    tokenizer=tokenizer, data_collator=dataCollator,\n",
    "    compute_metrics=compute_metrics\n",
    ")\n",
    "trainer_ia3.train()\n",
    "end = time.time()\n",
    "metrics_ia3 = trainer_ia3.evaluate()\n",
    "metrics_ia3['trainable_params'] = sum(p.numel() for p in model_ia3.parameters() if p.requires_grad)\n",
    "metrics_ia3['train_time'] = end - start\n",
    "metrics_ia3['max_gpu_mem'] = torch.cuda.max_memory_allocated() / (1024**3)\n"
   ]
  },
  {
   "cell_type": "markdown",
   "id": "7bde9079",
   "metadata": {},
   "source": [
    "## Part 3: Evaluation Metrics \n"
   ]
  },
  {
   "cell_type": "code",
   "execution_count": null,
   "id": "1e32651a",
   "metadata": {},
   "outputs": [
    {
     "data": {
      "text/html": [
       "<div>\n",
       "<style scoped>\n",
       "    .dataframe tbody tr th:only-of-type {\n",
       "        vertical-align: middle;\n",
       "    }\n",
       "\n",
       "    .dataframe tbody tr th {\n",
       "        vertical-align: top;\n",
       "    }\n",
       "\n",
       "    .dataframe thead th {\n",
       "        text-align: right;\n",
       "    }\n",
       "</style>\n",
       "<table border=\"1\" class=\"dataframe\">\n",
       "  <thead>\n",
       "    <tr style=\"text-align: right;\">\n",
       "      <th></th>\n",
       "      <th>Method</th>\n",
       "      <th>accuracy</th>\n",
       "      <th>trainable_params</th>\n",
       "      <th>train_time</th>\n",
       "      <th>gpu_mem_GB</th>\n",
       "    </tr>\n",
       "  </thead>\n",
       "  <tbody>\n",
       "    <tr>\n",
       "      <th>0</th>\n",
       "      <td>Full</td>\n",
       "      <td>0.9140</td>\n",
       "      <td>124647170</td>\n",
       "      <td>614.141521</td>\n",
       "      <td>2.638919</td>\n",
       "    </tr>\n",
       "    <tr>\n",
       "      <th>1</th>\n",
       "      <td>LoRA</td>\n",
       "      <td>0.9115</td>\n",
       "      <td>1181954</td>\n",
       "      <td>459.041533</td>\n",
       "      <td>1.481977</td>\n",
       "    </tr>\n",
       "    <tr>\n",
       "      <th>2</th>\n",
       "      <td>QLoRA</td>\n",
       "      <td>0.9045</td>\n",
       "      <td>1034498</td>\n",
       "      <td>670.509710</td>\n",
       "      <td>1.355802</td>\n",
       "    </tr>\n",
       "    <tr>\n",
       "      <th>3</th>\n",
       "      <td>IA3</td>\n",
       "      <td>0.8495</td>\n",
       "      <td>656642</td>\n",
       "      <td>474.443455</td>\n",
       "      <td>2.854391</td>\n",
       "    </tr>\n",
       "  </tbody>\n",
       "</table>\n",
       "</div>"
      ],
      "text/plain": [
       "  Method  accuracy  trainable_params  train_time  gpu_mem_GB\n",
       "0   Full    0.9140         124647170  614.141521    2.638919\n",
       "1   LoRA    0.9115           1181954  459.041533    1.481977\n",
       "2  QLoRA    0.9045           1034498  670.509710    1.355802\n",
       "3    IA3    0.8495            656642  474.443455    2.854391"
      ]
     },
     "execution_count": 17,
     "metadata": {},
     "output_type": "execute_result"
    }
   ],
   "source": [
    "results = {\n",
    "    'Full': metrics_full,\n",
    "    'LoRA': metrics_lora,\n",
    "    'QLoRA': metrics_qlora,\n",
    "    'IA3': metrics_ia3\n",
    "}\n",
    "df = pd.DataFrame([{**{'Method':k}, **{ 'accuracy':v['eval_accuracy'], 'trainable_params':v['trainable_params'], 'train_time':v['train_time'], 'gpu_mem_GB':v['max_gpu_mem']}} for k,v in results.items()])\n",
    "df"
   ]
  },
  {
   "cell_type": "markdown",
   "id": "5d60feac",
   "metadata": {},
   "source": [
    "## Part 4: Visualization \n",
    "\n"
   ]
  },
  {
   "cell_type": "code",
   "execution_count": 18,
   "id": "fe4f5b57",
   "metadata": {},
   "outputs": [
    {
     "data": {
      "image/png": "[encoded data removed]",
      "text/plain": [
       "<Figure size 640x480 with 1 Axes>"
      ]
     },
     "metadata": {},
     "output_type": "display_data"
    },
    {
     "data": {
      "image/png": "[encoded data removed]",
      "text/plain": [
       "<Figure size 640x480 with 1 Axes>"
      ]
     },
     "metadata": {},
     "output_type": "display_data"
    },
    {
     "data": {
      "image/png": "[encoded data removed]",
      "text/plain": [
       "<Figure size 640x480 with 1 Axes>"
      ]
     },
     "metadata": {},
     "output_type": "display_data"
    },
    {
     "data": {
      "image/png": "[encoded data removed]",
      "text/plain": [
       "<Figure size 640x480 with 1 Axes>"
      ]
     },
     "metadata": {},
     "output_type": "display_data"
    }
   ],
   "source": [
    "metrics = ['accuracy','train_time','trainable_params','gpu_mem_GB']\n",
    "for m in metrics:\n",
    "    plt.figure()\n",
    "    plt.bar(df['Method'], df[m])\n",
    "    plt.title(m)\n",
    "    plt.ylabel(m)\n",
    "    plt.show()"
   ]
  }
 ],
 "metadata": {
  "kernelspec": {
   "display_name": "Python 3",
   "language": "python",
   "name": "python3"
  },
  "language_info": {
   "codemirror_mode": {
    "name": "ipython",
    "version": 3
   },
   "file_extension": ".py",
   "mimetype": "text/x-python",
   "name": "python",
   "nbconvert_exporter": "python",
   "pygments_lexer": "ipython3",
   "version": "3.11.0"
  }
 },
 "nbformat": 4,
 "nbformat_minor": 5
}
